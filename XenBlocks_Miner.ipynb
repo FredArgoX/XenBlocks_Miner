{
  "cells": [
    {
      "cell_type": "markdown",
      "metadata": {
        "id": "view-in-github",
        "colab_type": "text"
      },
      "source": [
        "<a href=\"https://colab.research.google.com/github/FredArgoX/XenBlocks_Miner/blob/main/XenBlocks_Miner.ipynb\" target=\"_parent\"><img src=\"https://colab.research.google.com/assets/colab-badge.svg\" alt=\"Open In Colab\"/></a>"
      ]
    },
    {
      "cell_type": "code",
      "execution_count": null,
      "metadata": {
        "colab": {
          "base_uri": "https://localhost:8080/"
        },
        "id": "wKhevmClFfpl",
        "outputId": "8ebd9435-be67-41ea-99cc-ff92d4ba8de7"
      },
      "outputs": [
        {
          "name": "stdout",
          "output_type": "stream",
          "text": [
            "Collecting passlib\n",
            "  Downloading passlib-1.7.4-py2.py3-none-any.whl (525 kB)\n",
            "\u001b[?25l     \u001b[90m━━━━━━━━━━━━━━━━━━━━━━━━━━━━━━━━━━━━━━━━\u001b[0m \u001b[32m0.0/525.6 kB\u001b[0m \u001b[31m?\u001b[0m eta \u001b[36m-:--:--\u001b[0m\r\u001b[2K     \u001b[91m━━━━━━━━━━━━━━━\u001b[0m\u001b[90m╺\u001b[0m\u001b[90m━━━━━━━━━━━━━━━━━━━━━━━\u001b[0m \u001b[32m204.8/525.6 kB\u001b[0m \u001b[31m5.9 MB/s\u001b[0m eta \u001b[36m0:00:01\u001b[0m\r\u001b[2K     \u001b[90m━━━━━━━━━━━━━━━━━━━━━━━━━━━━━━━━━━━━━━━\u001b[0m \u001b[32m525.6/525.6 kB\u001b[0m \u001b[31m8.4 MB/s\u001b[0m eta \u001b[36m0:00:00\u001b[0m\n",
            "\u001b[?25hInstalling collected packages: passlib\n",
            "Successfully installed passlib-1.7.4\n"
          ]
        }
      ],
      "source": [
        "!pip install passlib"
      ]
    },
    {
      "cell_type": "code",
      "execution_count": null,
      "metadata": {
        "colab": {
          "background_save": true,
          "base_uri": "https://localhost:8080/"
        },
        "id": "vinc3X5tFiZR",
        "outputId": "7f298731-174d-4a3b-b7c5-7a4545fa5590"
      },
      "outputs": [
        {
          "name": "stdout",
          "output_type": "stream",
          "text": [
            "Genesis Block: 94676fb17145a0deed5bb6650af8ec0e544e9f3e6bd115a089168432745ada04\n",
            "Mining block 1...\n"
          ]
        },
        {
          "name": "stderr",
          "output_type": "stream",
          "text": [
            "\u001b[32mMining\u001b[0m: 4499 \u001b[32mHashes\u001b[0m [00:10, 441.77 \u001b[32mHashes\u001b[0m/s, Difficulty=\u001b[33m1500\u001b[0m]\n"
          ]
        },
        {
          "name": "stdout",
          "output_type": "stream",
          "text": [
            "Updating difficulty to 2127\n",
            "\u001b[34mContinuing to mine blocks with new difficulty\u001b[0m\n",
            "\u001b[31mRestarting mining round\u001b[0m\n",
            "Mining block 1...\n"
          ]
        },
        {
          "name": "stderr",
          "output_type": "stream",
          "text": [
            "\u001b[32mMining\u001b[0m: 2525099 \u001b[32mHashes\u001b[0m [1:37:12, 432.95 \u001b[32mHashes\u001b[0m/s, Difficulty=\u001b[33m2127\u001b[0m]\n"
          ]
        },
        {
          "name": "stdout",
          "output_type": "stream",
          "text": [
            "Updating difficulty to 2227\n",
            "\u001b[34mContinuing to mine blocks with new difficulty\u001b[0m\n",
            "\u001b[31mRestarting mining round\u001b[0m\n",
            "Mining block 1...\n"
          ]
        },
        {
          "name": "stderr",
          "output_type": "stream",
          "text": [
            "\u001b[32mMining\u001b[0m: 1882799 \u001b[32mHashes\u001b[0m [1:15:10, 417.45 \u001b[32mHashes\u001b[0m/s, Difficulty=\u001b[33m2227\u001b[0m]\n"
          ]
        },
        {
          "name": "stdout",
          "output_type": "stream",
          "text": [
            "Updating difficulty to 2327\n",
            "\u001b[34mContinuing to mine blocks with new difficulty\u001b[0m\n",
            "\u001b[31mRestarting mining round\u001b[0m\n",
            "Mining block 1...\n"
          ]
        },
        {
          "name": "stderr",
          "output_type": "stream",
          "text": [
            "\u001b[32mMining\u001b[0m: 843399 \u001b[32mHashes\u001b[0m [35:04, 400.77 \u001b[32mHashes\u001b[0m/s, Difficulty=\u001b[33m2327\u001b[0m]\n"
          ]
        },
        {
          "name": "stdout",
          "output_type": "stream",
          "text": [
            "Updating difficulty to 2427\n",
            "\u001b[34mContinuing to mine blocks with new difficulty\u001b[0m\n",
            "\u001b[31mRestarting mining round\u001b[0m\n",
            "Mining block 1...\n"
          ]
        },
        {
          "name": "stderr",
          "output_type": "stream",
          "text": [
            "\u001b[32mMining\u001b[0m: 541539 \u001b[32mHashes\u001b[0m [23:20, 386.80 \u001b[32mHashes\u001b[0m/s, Difficulty=\u001b[33m2427\u001b[0m]\n"
          ]
        },
        {
          "name": "stdout",
          "output_type": "stream",
          "text": [
            "\n",
            "\u001b[31mFound valid hash for target XEN11 after 541539 attempts\u001b[0m\n",
            "{'hash_to_verify': '$argon2id$v=19$m=2427,t=1,p=1$WEVOMTAwODIwMjJYRU4$s4Ut1sk1YVlyMNT8CqYL6HC1EtJJ+GvvSl5oJKjIh52c0sTux6i+aN3moslCvCPviCkXEN11c3vxzcQ8WQVo4Q', 'key': 'fcf192213aefdb705c02e3ab4d021a4059a567a51924152e0a1b3c42b35a4e9694676fb17145a0deed5bb6650af8ec0e544e9f3e6bd115a089168432745ada04', 'account': '0x7b9D42E21156BddCe52429351a77feCa2eB0066C', 'attempts': 541539, 'hashes_per_second': 386.79545723211316}\n",
            "HTTP Status Code: 200\n",
            "Server Response: {'message': 'Hash verified successfully and block saved.'}\n",
            "Mining block 2...\n"
          ]
        },
        {
          "name": "stderr",
          "output_type": "stream",
          "text": [
            "\u001b[32mMining\u001b[0m: 1900799 \u001b[32mHashes\u001b[0m [1:21:56, 386.62 \u001b[32mHashes\u001b[0m/s, Difficulty=\u001b[33m2427\u001b[0m]\n"
          ]
        },
        {
          "name": "stdout",
          "output_type": "stream",
          "text": [
            "Updating difficulty to 2527\n",
            "\u001b[34mContinuing to mine blocks with new difficulty\u001b[0m\n",
            "\u001b[31mRestarting mining round\u001b[0m\n",
            "Mining block 2...\n"
          ]
        },
        {
          "name": "stderr",
          "output_type": "stream",
          "text": [
            "\u001b[32mMining\u001b[0m: 1091490 \u001b[32mHashes\u001b[0m [47:09, 393.77 \u001b[32mHashes\u001b[0m/s, Difficulty=\u001b[33m2527\u001b[0m]"
          ]
        }
      ],
      "source": [
        "import json\n",
        "import requests\n",
        "import time\n",
        "from passlib.hash import argon2\n",
        "import hashlib\n",
        "from random import choice, randrange\n",
        "import string\n",
        "import threading\n",
        "import re\n",
        "\n",
        "difficulty = 1\n",
        "memory_cost = 1500\n",
        "cores = 1\n",
        "\n",
        "# LEDGER 2\n",
        "# address_fill\n",
        "account = \"address_fill\"\n",
        "\n",
        "from datetime import datetime\n",
        "def is_within_five_minutes_of_hour():\n",
        "    timestamp = datetime.now()\n",
        "    minutes = timestamp.minute\n",
        "    return 0 <= minutes < 5 or 55 <= minutes < 60\n",
        "\n",
        "class Block:\n",
        "    def __init__(self, index, prev_hash, data, valid_hash, random_data, attempts):\n",
        "        self.index = index\n",
        "        self.prev_hash = prev_hash\n",
        "        self.data = data\n",
        "        self.valid_hash = valid_hash\n",
        "        self.random_data = random_data\n",
        "        self.attempts = attempts\n",
        "        self.timestamp = time.time()\n",
        "        self.hash = self.calculate_hash()\n",
        "\n",
        "    def calculate_hash(self):\n",
        "        sha256 = hashlib.sha256()\n",
        "        sha256.update(f\"{self.index}{self.prev_hash}{self.data}{self.valid_hash}{self.timestamp}\".encode(\"utf-8\"))\n",
        "        return sha256.hexdigest()\n",
        "\n",
        "    def to_dict(self):\n",
        "        return {\n",
        "            \"index\": self.index,\n",
        "            \"prev_hash\": self.prev_hash,\n",
        "            \"data\": self.data,\n",
        "            \"valid_hash\": self.valid_hash,\n",
        "            \"random_data\": self.random_data,\n",
        "            \"timestamp\": self.timestamp,\n",
        "            \"hash\": self.hash,\n",
        "            \"attempts\": self.attempts\n",
        "        }\n",
        "\n",
        "updated_memory_cost = 1500 # just initialize it\n",
        "\n",
        "def update_memory_cost_periodically():\n",
        "    global memory_cost\n",
        "    global updated_memory_cost\n",
        "    time.sleep(10)  # start checking in 10 seconds after launch\n",
        "    while True:\n",
        "        updated_memory_cost = fetch_difficulty_from_server()\n",
        "        if updated_memory_cost != memory_cost:\n",
        "            print(f\"Updating difficulty to {updated_memory_cost}\")\n",
        "        time.sleep(60)  # Fetch every 60 seconds\n",
        "\n",
        "# Function to get difficulty level from the server\n",
        "def fetch_difficulty_from_server():\n",
        "    try:\n",
        "        response = requests.get('http://xenminer.mooo.com/difficulty')\n",
        "        response_data = response.json()\n",
        "        return str(response_data['difficulty'])\n",
        "    except Exception as e:\n",
        "        print(f\"An error occurred while fetching difficulty: {e}\")\n",
        "        return '2000'  # Default value if fetching fails\n",
        "\n",
        "def generate_random_sha256(max_length=128):\n",
        "    characters = string.ascii_letters + string.digits + string.punctuation\n",
        "    random_string = ''.join(choice(characters) for _ in range(randrange(1, max_length + 1)))\n",
        "\n",
        "    sha256 = hashlib.sha256()\n",
        "    sha256.update(random_string.encode('utf-8'))\n",
        "    return sha256.hexdigest()\n",
        "\n",
        "from tqdm import tqdm\n",
        "import time\n",
        "\n",
        "# ANSI escape codes\n",
        "RED = \"\\033[31m\"\n",
        "GREEN = \"\\033[32m\"\n",
        "YELLOW = \"\\033[33m\"\n",
        "BLUE = \"\\033[34m\"\n",
        "RESET = \"\\033[0m\"\n",
        "\n",
        "def mine_block(stored_targets, prev_hash):\n",
        "    global memory_cost  # Make it global so that we can update it\n",
        "    global updated_memory_cost  # Make it global so that we can receive updates\n",
        "    found_valid_hash = False\n",
        "    #memory_cost=fetch_difficulty_from_server()\n",
        "    argon2_hasher = argon2.using(time_cost=difficulty, salt=b\"XEN10082022XEN\", memory_cost=memory_cost, parallelism=cores, hash_len = 64)\n",
        "    attempts = 0\n",
        "    random_data = None\n",
        "    start_time = time.time()\n",
        "\n",
        "    with tqdm(total=None, dynamic_ncols=True, desc=f\"{GREEN}Mining{RESET}\", unit=f\" {GREEN}Hashes{RESET}\") as pbar:\n",
        "        while True:\n",
        "            attempts += 1\n",
        "\n",
        "            if attempts % 100 == 0:\n",
        "                if updated_memory_cost != memory_cost:\n",
        "                    memory_cost = updated_memory_cost\n",
        "                    print(f\"{BLUE}Continuing to mine blocks with new difficulty{RESET}\")\n",
        "                    return\n",
        "\n",
        "            random_data = generate_random_sha256()\n",
        "            hashed_data = argon2_hasher.hash(random_data + prev_hash)\n",
        "\n",
        "\n",
        "            for target in stored_targets:\n",
        "                if target in hashed_data[-87:]:\n",
        "                # Search for the pattern \"XUNI\" followed by a digit (0-9)\n",
        "                    if re.search(\"XUNI[0-9]\", target) and is_within_five_minutes_of_hour():\n",
        "                        found_valid_hash = True\n",
        "                        break\n",
        "                    elif target == \"XEN11\":\n",
        "                        found_valid_hash = True\n",
        "                        capital_count = sum(1 for char in re.sub('[0-9]', '', hashed_data) if char.isupper())\n",
        "                        if capital_count >= 65:\n",
        "                            print(f\"{RED}Superblock found{RESET}\")\n",
        "                        break\n",
        "                    else:\n",
        "                        found_valid_hash = False\n",
        "\n",
        "\n",
        "            pbar.update(1)\n",
        "\n",
        "            if attempts % 10 == 0:\n",
        "                elapsed_time = time.time() - start_time\n",
        "                hashes_per_second = attempts / (elapsed_time + 1e-9)\n",
        "                pbar.set_postfix({\"Difficulty\": f\"{YELLOW}{memory_cost}{RESET}\"}, refresh=True)\n",
        "\n",
        "            if found_valid_hash:\n",
        "                print(f\"\\n{RED}Found valid hash for target {target} after {attempts} attempts{RESET}\")\n",
        "                break\n",
        "\n",
        "\n",
        "    # Prepare the payload\n",
        "    payload = {\n",
        "        \"hash_to_verify\": hashed_data,\n",
        "        \"key\": random_data + prev_hash,\n",
        "        \"account\": account,\n",
        "        \"attempts\": attempts,\n",
        "        \"hashes_per_second\": hashes_per_second\n",
        "        }\n",
        "\n",
        "    print (payload)\n",
        "\n",
        "    max_retries = 2\n",
        "    retries = 0\n",
        "\n",
        "    while retries <= max_retries:\n",
        "        # Make the POST request\n",
        "        response = requests.post('http://xenminer.mooo.com/verify', json=payload)\n",
        "\n",
        "        # Print the HTTP status code\n",
        "        print(\"HTTP Status Code:\", response.status_code)\n",
        "\n",
        "        if response.status_code != 500:  # If status code is not 500, break the loop\n",
        "            print(\"Server Response:\", response.json())\n",
        "            break\n",
        "\n",
        "        retries += 1\n",
        "        print(f\"Retrying... ({retries}/{max_retries})\")\n",
        "        time.sleep(10)  # You can adjust the sleep time\n",
        "\n",
        "\n",
        "        # Print the server's response\n",
        "        try:\n",
        "            print(\"Server Response:\", response.json())\n",
        "        except Exception as e:\n",
        "            print(\"An error occurred:\", e)\n",
        "\n",
        "    return random_data, hashed_data, attempts, hashes_per_second\n",
        "\n",
        "def verify_block(block):\n",
        "    argon2_hasher = argon2.using(time_cost=difficulty, memory_cost=memory_cost, parallelism=cores)\n",
        "    #debug\n",
        "    print (\"Key: \");\n",
        "    print (block['random_data'] + block['prev_hash'])\n",
        "    print (\"Hash: \");\n",
        "    print (block['valid_hash'])\n",
        "    return argon2_hasher.verify(block['random_data'] + block['prev_hash'], block['valid_hash'])\n",
        "\n",
        "if __name__ == \"__main__\":\n",
        "    blockchain = []\n",
        "    stored_targets = ['XEN11', 'XUNI']\n",
        "    num_blocks_to_mine = 20000000\n",
        "\n",
        "    #Start difficulty monitoring thread\n",
        "    difficulty_thread = threading.Thread(target=update_memory_cost_periodically)\n",
        "    difficulty_thread.daemon = True  # This makes the thread exit when the main program exits\n",
        "    difficulty_thread.start()\n",
        "\n",
        "    genesis_block = Block(0, \"0\", \"Genesis Block\", \"0\", \"0\", \"0\")\n",
        "    blockchain.append(genesis_block.to_dict())\n",
        "    print(f\"Genesis Block: {genesis_block.hash}\")\n",
        "\n",
        "    i = 1\n",
        "    while i <= num_blocks_to_mine:\n",
        "        print(f\"Mining block {i}...\")\n",
        "        result = mine_block(stored_targets, blockchain[-1]['hash'])\n",
        "\n",
        "        if result is None:\n",
        "            print(f\"{RED}Restarting mining round{RESET}\")\n",
        "                # Skip the increment of `i` and continue the loop\n",
        "            continue\n",
        "        else:\n",
        "            i += 1\n",
        "\n",
        "    random_data, new_valid_hash, attempts, hashes_per_second = result\n",
        "    new_block = Block(i, blockchain[-1]['hash'], f\"Block {i} Data\", new_valid_hash, random_data, attempts)\n",
        "    new_block.to_dict()['hashes_per_second'] = hashes_per_second\n",
        "    blockchain.append(new_block.to_dict())\n",
        "    print(f\"New Block Added: {new_block.hash}\")\n",
        "\n",
        "\n",
        "    # Verification\n",
        "    for i, block in enumerate(blockchain[1:], 1):\n",
        "        is_valid = verify_block(block)\n",
        "        print(f\"Verification for Block {i}: {is_valid}\")\n",
        "\n",
        "    # Write blockchain to JSON file\n",
        "    blockchain_json = json.dumps(blockchain, indent=4)\n",
        "    with open(\"blockchain.json\", \"w\") as f:\n",
        "        f.write(blockchain_json)"
      ]
    }
  ],
  "metadata": {
    "colab": {
      "provenance": [],
      "include_colab_link": true
    },
    "kernelspec": {
      "display_name": "Python 3",
      "name": "python3"
    },
    "language_info": {
      "name": "python"
    }
  },
  "nbformat": 4,
  "nbformat_minor": 0
}